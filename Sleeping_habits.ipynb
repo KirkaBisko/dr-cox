{
 "cells": [
  {
   "cell_type": "code",
   "execution_count": 1,
   "id": "6191dfb1",
   "metadata": {
    "execution": {
     "iopub.execute_input": "2022-12-18T12:29:55.372676Z",
     "iopub.status.busy": "2022-12-18T12:29:55.372229Z",
     "iopub.status.idle": "2022-12-18T12:29:56.708658Z",
     "shell.execute_reply": "2022-12-18T12:29:56.707493Z"
    },
    "papermill": {
     "duration": 1.352366,
     "end_time": "2022-12-18T12:29:56.711419",
     "exception": false,
     "start_time": "2022-12-18T12:29:55.359053",
     "status": "completed"
    },
    "tags": []
   },
   "outputs": [],
   "source": [
    "import pandas as pd\n",
    "import matplotlib.pyplot as plt\n",
    "import seaborn as sns\n",
    "from sklearn.metrics import mean_absolute_error\n",
    "from sklearn.model_selection import train_test_split\n",
    "from sklearn.ensemble import RandomForestRegressor\n",
    "import pickle\n",
    "\n",
    "df = pd.read_csv('/kaggle/input/how-much-sleep-do-americans-really-get/Time Americans Spend Sleeping.csv')\n"
   ]
  },
  {
   "cell_type": "code",
   "execution_count": 2,
   "id": "fa4154f9",
   "metadata": {
    "execution": {
     "iopub.execute_input": "2022-12-18T12:29:56.731842Z",
     "iopub.status.busy": "2022-12-18T12:29:56.731236Z",
     "iopub.status.idle": "2022-12-18T12:29:56.753824Z",
     "shell.execute_reply": "2022-12-18T12:29:56.752759Z"
    },
    "papermill": {
     "duration": 0.035931,
     "end_time": "2022-12-18T12:29:56.756647",
     "exception": false,
     "start_time": "2022-12-18T12:29:56.720716",
     "status": "completed"
    },
    "tags": []
   },
   "outputs": [
    {
     "data": {
      "text/html": [
       "<div>\n",
       "<style scoped>\n",
       "    .dataframe tbody tr th:only-of-type {\n",
       "        vertical-align: middle;\n",
       "    }\n",
       "\n",
       "    .dataframe tbody tr th {\n",
       "        vertical-align: top;\n",
       "    }\n",
       "\n",
       "    .dataframe thead th {\n",
       "        text-align: right;\n",
       "    }\n",
       "</style>\n",
       "<table border=\"1\" class=\"dataframe\">\n",
       "  <thead>\n",
       "    <tr style=\"text-align: right;\">\n",
       "      <th></th>\n",
       "      <th>index</th>\n",
       "      <th>Year</th>\n",
       "      <th>Period</th>\n",
       "      <th>Avg hrs per day sleeping</th>\n",
       "      <th>Standard Error</th>\n",
       "      <th>Type of Days</th>\n",
       "      <th>Age Group</th>\n",
       "      <th>Activity</th>\n",
       "      <th>Sex</th>\n",
       "    </tr>\n",
       "  </thead>\n",
       "  <tbody>\n",
       "    <tr>\n",
       "      <th>0</th>\n",
       "      <td>0</td>\n",
       "      <td>2003</td>\n",
       "      <td>Annual</td>\n",
       "      <td>8.57</td>\n",
       "      <td>0.018</td>\n",
       "      <td>All days</td>\n",
       "      <td>15 years and over</td>\n",
       "      <td>Sleeping</td>\n",
       "      <td>Both</td>\n",
       "    </tr>\n",
       "    <tr>\n",
       "      <th>1</th>\n",
       "      <td>1</td>\n",
       "      <td>2004</td>\n",
       "      <td>Annual</td>\n",
       "      <td>8.55</td>\n",
       "      <td>0.026</td>\n",
       "      <td>All days</td>\n",
       "      <td>15 years and over</td>\n",
       "      <td>Sleeping</td>\n",
       "      <td>Both</td>\n",
       "    </tr>\n",
       "    <tr>\n",
       "      <th>2</th>\n",
       "      <td>2</td>\n",
       "      <td>2005</td>\n",
       "      <td>Annual</td>\n",
       "      <td>8.62</td>\n",
       "      <td>0.023</td>\n",
       "      <td>All days</td>\n",
       "      <td>15 years and over</td>\n",
       "      <td>Sleeping</td>\n",
       "      <td>Both</td>\n",
       "    </tr>\n",
       "    <tr>\n",
       "      <th>3</th>\n",
       "      <td>3</td>\n",
       "      <td>2006</td>\n",
       "      <td>Annual</td>\n",
       "      <td>8.63</td>\n",
       "      <td>0.024</td>\n",
       "      <td>All days</td>\n",
       "      <td>15 years and over</td>\n",
       "      <td>Sleeping</td>\n",
       "      <td>Both</td>\n",
       "    </tr>\n",
       "    <tr>\n",
       "      <th>4</th>\n",
       "      <td>4</td>\n",
       "      <td>2007</td>\n",
       "      <td>Annual</td>\n",
       "      <td>8.57</td>\n",
       "      <td>0.024</td>\n",
       "      <td>All days</td>\n",
       "      <td>15 years and over</td>\n",
       "      <td>Sleeping</td>\n",
       "      <td>Both</td>\n",
       "    </tr>\n",
       "  </tbody>\n",
       "</table>\n",
       "</div>"
      ],
      "text/plain": [
       "   index  Year  Period  Avg hrs per day sleeping  Standard Error Type of Days  \\\n",
       "0      0  2003  Annual                      8.57           0.018     All days   \n",
       "1      1  2004  Annual                      8.55           0.026     All days   \n",
       "2      2  2005  Annual                      8.62           0.023     All days   \n",
       "3      3  2006  Annual                      8.63           0.024     All days   \n",
       "4      4  2007  Annual                      8.57           0.024     All days   \n",
       "\n",
       "           Age Group  Activity   Sex  \n",
       "0  15 years and over  Sleeping  Both  \n",
       "1  15 years and over  Sleeping  Both  \n",
       "2  15 years and over  Sleeping  Both  \n",
       "3  15 years and over  Sleeping  Both  \n",
       "4  15 years and over  Sleeping  Both  "
      ]
     },
     "execution_count": 2,
     "metadata": {},
     "output_type": "execute_result"
    }
   ],
   "source": [
    "df.head()"
   ]
  },
  {
   "cell_type": "markdown",
   "id": "3ec82b5c",
   "metadata": {
    "papermill": {
     "duration": 0.010627,
     "end_time": "2022-12-18T12:29:56.776908",
     "exception": false,
     "start_time": "2022-12-18T12:29:56.766281",
     "status": "completed"
    },
    "tags": []
   },
   "source": [
    "We have 9 columns nad 945 rows. First we check for unneccesary data. We print the columns and its values to see how many different values we have in the column and if they offer any information at all. "
   ]
  },
  {
   "cell_type": "markdown",
   "id": "6be30d44",
   "metadata": {
    "papermill": {
     "duration": 0.009052,
     "end_time": "2022-12-18T12:29:56.795661",
     "exception": false,
     "start_time": "2022-12-18T12:29:56.786609",
     "status": "completed"
    },
    "tags": []
   },
   "source": []
  },
  {
   "cell_type": "code",
   "execution_count": 3,
   "id": "072f66f2",
   "metadata": {
    "execution": {
     "iopub.execute_input": "2022-12-18T12:29:56.816574Z",
     "iopub.status.busy": "2022-12-18T12:29:56.815549Z",
     "iopub.status.idle": "2022-12-18T12:29:56.840337Z",
     "shell.execute_reply": "2022-12-18T12:29:56.838999Z"
    },
    "papermill": {
     "duration": 0.038337,
     "end_time": "2022-12-18T12:29:56.843309",
     "exception": false,
     "start_time": "2022-12-18T12:29:56.804972",
     "status": "completed"
    },
    "tags": []
   },
   "outputs": [
    {
     "name": "stdout",
     "output_type": "stream",
     "text": [
      "index\n",
      "0      1\n",
      "635    1\n",
      "623    1\n",
      "624    1\n",
      "625    1\n",
      "      ..\n",
      "319    1\n",
      "320    1\n",
      "321    1\n",
      "322    1\n",
      "944    1\n",
      "Name: index, Length: 945, dtype: int64\n",
      "------------------------------------\n",
      "Year\n",
      "2003    63\n",
      "2004    63\n",
      "2005    63\n",
      "2006    63\n",
      "2007    63\n",
      "2008    63\n",
      "2009    63\n",
      "2010    63\n",
      "2011    63\n",
      "2012    63\n",
      "2013    63\n",
      "2014    63\n",
      "2015    63\n",
      "2016    63\n",
      "2017    63\n",
      "Name: Year, dtype: int64\n",
      "------------------------------------\n",
      "Period\n",
      "Annual    945\n",
      "Name: Period, dtype: int64\n",
      "------------------------------------\n",
      "Avg hrs per day sleeping\n",
      "9.34    14\n",
      "8.36    13\n",
      "8.93    10\n",
      "8.91    10\n",
      "8.97    10\n",
      "        ..\n",
      "7.88     1\n",
      "7.76     1\n",
      "7.83     1\n",
      "7.72     1\n",
      "7.90     1\n",
      "Name: Avg hrs per day sleeping, Length: 221, dtype: int64\n",
      "------------------------------------\n",
      "Standard Error\n",
      "0.072    17\n",
      "0.092    16\n",
      "0.077    16\n",
      "0.101    15\n",
      "0.086    14\n",
      "         ..\n",
      "0.214     1\n",
      "0.159     1\n",
      "0.177     1\n",
      "0.025     1\n",
      "0.145     1\n",
      "Name: Standard Error, Length: 158, dtype: int64\n",
      "------------------------------------\n",
      "Type of Days\n",
      "All days                     315\n",
      "Nonholiday weekdays          315\n",
      "Weekend days and holidays    315\n",
      "Name: Type of Days, dtype: int64\n",
      "------------------------------------\n",
      "Age Group\n",
      "15 years and over    135\n",
      "15 to 24 years       135\n",
      "25 to 34 years       135\n",
      "35 to 44 years       135\n",
      "45 to 54 years       135\n",
      "55 to 64 years       135\n",
      "65 years and over    135\n",
      "Name: Age Group, dtype: int64\n",
      "------------------------------------\n",
      "Activity\n",
      "Sleeping    945\n",
      "Name: Activity, dtype: int64\n",
      "------------------------------------\n",
      "Sex\n",
      "Both     315\n",
      "Men      315\n",
      "Women    315\n",
      "Name: Sex, dtype: int64\n",
      "------------------------------------\n"
     ]
    }
   ],
   "source": [
    "for col in df.columns:\n",
    "    print(col)\n",
    "    print(df[col].value_counts())\n",
    "    print('------------------------------------')"
   ]
  },
  {
   "cell_type": "markdown",
   "id": "66676ac0",
   "metadata": {
    "papermill": {
     "duration": 0.0093,
     "end_time": "2022-12-18T12:29:56.862383",
     "exception": false,
     "start_time": "2022-12-18T12:29:56.853083",
     "status": "completed"
    },
    "tags": []
   },
   "source": [
    "We can see that the column 'Activity' has only one value: Sleeping. Since we already know that sleeping is the activity that database is about, we can remove this column as it offers no additional information. \n",
    "\n",
    "The same can be said about the 'Period' column. It only contains one value: Annual. Now that we know we are measuring annual period of sleeping, we can also drop this column. \n",
    "\n",
    "Index can also be dropped since we won't be looking at individuals, but rather at whole groups/subgroups. We will also drop standard error as it gives very little useful information. \n",
    "\n",
    "Since the column name for the avg hrs per day sleeping is unnecceseraly long, we will shorten it to 'Avg_sleep'. "
   ]
  },
  {
   "cell_type": "code",
   "execution_count": 4,
   "id": "edad810b",
   "metadata": {
    "execution": {
     "iopub.execute_input": "2022-12-18T12:29:56.883026Z",
     "iopub.status.busy": "2022-12-18T12:29:56.882606Z",
     "iopub.status.idle": "2022-12-18T12:29:56.893532Z",
     "shell.execute_reply": "2022-12-18T12:29:56.892426Z"
    },
    "papermill": {
     "duration": 0.023925,
     "end_time": "2022-12-18T12:29:56.895704",
     "exception": false,
     "start_time": "2022-12-18T12:29:56.871779",
     "status": "completed"
    },
    "tags": []
   },
   "outputs": [],
   "source": [
    "df = df[['Year', 'Avg hrs per day sleeping', 'Type of Days', 'Age Group', 'Sex']]\n",
    "df.rename(columns = {'Avg hrs per day sleeping' : 'Avg_sleep'}, inplace = True)"
   ]
  },
  {
   "cell_type": "markdown",
   "id": "65aa2784",
   "metadata": {
    "papermill": {
     "duration": 0.009209,
     "end_time": "2022-12-18T12:29:56.914405",
     "exception": false,
     "start_time": "2022-12-18T12:29:56.905196",
     "status": "completed"
    },
    "tags": []
   },
   "source": [
    "If we look at the data more closely, we can see that we have annual information from year 2003-2017 for all sexes, types of days, age groups and avg sleeping time per day. The first thing we can look at is the difference between sexes and their average time spent sleeping.\n",
    "\n",
    "Now we can start comparing data. We can begin by searching for any meaningful differences between men and women. "
   ]
  },
  {
   "cell_type": "code",
   "execution_count": 5,
   "id": "f03f4b07",
   "metadata": {
    "execution": {
     "iopub.execute_input": "2022-12-18T12:29:56.937304Z",
     "iopub.status.busy": "2022-12-18T12:29:56.936900Z",
     "iopub.status.idle": "2022-12-18T12:29:56.952842Z",
     "shell.execute_reply": "2022-12-18T12:29:56.951671Z"
    },
    "papermill": {
     "duration": 0.030695,
     "end_time": "2022-12-18T12:29:56.955991",
     "exception": false,
     "start_time": "2022-12-18T12:29:56.925296",
     "status": "completed"
    },
    "tags": []
   },
   "outputs": [
    {
     "data": {
      "text/html": [
       "<div>\n",
       "<style scoped>\n",
       "    .dataframe tbody tr th:only-of-type {\n",
       "        vertical-align: middle;\n",
       "    }\n",
       "\n",
       "    .dataframe tbody tr th {\n",
       "        vertical-align: top;\n",
       "    }\n",
       "\n",
       "    .dataframe thead th {\n",
       "        text-align: right;\n",
       "    }\n",
       "</style>\n",
       "<table border=\"1\" class=\"dataframe\">\n",
       "  <thead>\n",
       "    <tr style=\"text-align: right;\">\n",
       "      <th></th>\n",
       "      <th>Avg_sleep</th>\n",
       "    </tr>\n",
       "    <tr>\n",
       "      <th>Sex</th>\n",
       "      <th></th>\n",
       "    </tr>\n",
       "  </thead>\n",
       "  <tbody>\n",
       "    <tr>\n",
       "      <th>Both</th>\n",
       "      <td>8.807841</td>\n",
       "    </tr>\n",
       "    <tr>\n",
       "      <th>Men</th>\n",
       "      <td>8.731587</td>\n",
       "    </tr>\n",
       "    <tr>\n",
       "      <th>Women</th>\n",
       "      <td>8.881175</td>\n",
       "    </tr>\n",
       "  </tbody>\n",
       "</table>\n",
       "</div>"
      ],
      "text/plain": [
       "       Avg_sleep\n",
       "Sex             \n",
       "Both    8.807841\n",
       "Men     8.731587\n",
       "Women   8.881175"
      ]
     },
     "execution_count": 5,
     "metadata": {},
     "output_type": "execute_result"
    }
   ],
   "source": [
    "df.groupby('Sex').agg({'Avg_sleep' : 'mean'})"
   ]
  },
  {
   "cell_type": "markdown",
   "id": "78f333e9",
   "metadata": {
    "papermill": {
     "duration": 0.013137,
     "end_time": "2022-12-18T12:29:56.981187",
     "exception": false,
     "start_time": "2022-12-18T12:29:56.968050",
     "status": "completed"
    },
    "tags": []
   },
   "source": [
    "We can see that there aren't many. On average across all days and age groups, women tend to sleep 10 minutes more per night than men. Now that we've seen that there are no meaningful differences between sexes, we can turn to other categories."
   ]
  },
  {
   "cell_type": "markdown",
   "id": "814ad0db",
   "metadata": {
    "papermill": {
     "duration": 0.009928,
     "end_time": "2022-12-18T12:29:57.001798",
     "exception": false,
     "start_time": "2022-12-18T12:29:56.991870",
     "status": "completed"
    },
    "tags": []
   },
   "source": [
    "We can start with age groups. Common sense and experience will tell us that younger people on average tend to sleep more than older people. This could be due to many reasons, one of them being simply that younger people need more sleep, especially under 24 years of age, because they are still developing. \n",
    "\n",
    "\n",
    "Let's inspect the Age group column. First we check what kind of groups we have and how many values of that group."
   ]
  },
  {
   "cell_type": "markdown",
   "id": "c1356784",
   "metadata": {
    "papermill": {
     "duration": 0.00976,
     "end_time": "2022-12-18T12:29:57.021154",
     "exception": false,
     "start_time": "2022-12-18T12:29:57.011394",
     "status": "completed"
    },
    "tags": []
   },
   "source": []
  },
  {
   "cell_type": "code",
   "execution_count": 6,
   "id": "ab462d07",
   "metadata": {
    "execution": {
     "iopub.execute_input": "2022-12-18T12:29:57.042982Z",
     "iopub.status.busy": "2022-12-18T12:29:57.041861Z",
     "iopub.status.idle": "2022-12-18T12:29:57.051116Z",
     "shell.execute_reply": "2022-12-18T12:29:57.049992Z"
    },
    "papermill": {
     "duration": 0.022613,
     "end_time": "2022-12-18T12:29:57.053642",
     "exception": false,
     "start_time": "2022-12-18T12:29:57.031029",
     "status": "completed"
    },
    "tags": []
   },
   "outputs": [
    {
     "data": {
      "text/plain": [
       "15 years and over    135\n",
       "15 to 24 years       135\n",
       "25 to 34 years       135\n",
       "35 to 44 years       135\n",
       "45 to 54 years       135\n",
       "55 to 64 years       135\n",
       "65 years and over    135\n",
       "Name: Age Group, dtype: int64"
      ]
     },
     "execution_count": 6,
     "metadata": {},
     "output_type": "execute_result"
    }
   ],
   "source": [
    "df['Age Group'].value_counts()"
   ]
  },
  {
   "cell_type": "markdown",
   "id": "43f0af23",
   "metadata": {
    "papermill": {
     "duration": 0.009995,
     "end_time": "2022-12-18T12:29:57.073525",
     "exception": false,
     "start_time": "2022-12-18T12:29:57.063530",
     "status": "completed"
    },
    "tags": []
   },
   "source": [
    "There appears to be 1 group which seems to be out of place. 15 years and over is already represented by every other group. Because we have no clue which ages are actually present in this group, we don't know how they will affect the rest of our analysis. So it's best that we get rid of it, if we want to find differences between meaningful groups.\n"
   ]
  },
  {
   "cell_type": "code",
   "execution_count": 7,
   "id": "84ddb91e",
   "metadata": {
    "execution": {
     "iopub.execute_input": "2022-12-18T12:29:57.094887Z",
     "iopub.status.busy": "2022-12-18T12:29:57.094508Z",
     "iopub.status.idle": "2022-12-18T12:29:57.101105Z",
     "shell.execute_reply": "2022-12-18T12:29:57.100021Z"
    },
    "papermill": {
     "duration": 0.020214,
     "end_time": "2022-12-18T12:29:57.103502",
     "exception": false,
     "start_time": "2022-12-18T12:29:57.083288",
     "status": "completed"
    },
    "tags": []
   },
   "outputs": [],
   "source": [
    "df = df[df['Age Group'] != '15 years and over']"
   ]
  },
  {
   "cell_type": "markdown",
   "id": "837d54ae",
   "metadata": {
    "papermill": {
     "duration": 0.009462,
     "end_time": "2022-12-18T12:29:57.122784",
     "exception": false,
     "start_time": "2022-12-18T12:29:57.113322",
     "status": "completed"
    },
    "tags": []
   },
   "source": [
    "Let's see if there are any differences between age groups."
   ]
  },
  {
   "cell_type": "code",
   "execution_count": 8,
   "id": "17d1b637",
   "metadata": {
    "execution": {
     "iopub.execute_input": "2022-12-18T12:29:57.144620Z",
     "iopub.status.busy": "2022-12-18T12:29:57.144226Z",
     "iopub.status.idle": "2022-12-18T12:29:57.418442Z",
     "shell.execute_reply": "2022-12-18T12:29:57.417117Z"
    },
    "papermill": {
     "duration": 0.288614,
     "end_time": "2022-12-18T12:29:57.421128",
     "exception": false,
     "start_time": "2022-12-18T12:29:57.132514",
     "status": "completed"
    },
    "tags": []
   },
   "outputs": [
    {
     "data": {
      "text/plain": [
       "<AxesSubplot:xlabel='Age Group'>"
      ]
     },
     "execution_count": 8,
     "metadata": {},
     "output_type": "execute_result"
    },
    {
     "data": {
      "image/png": "[encoded data removed]",
      "text/plain": [
       "<Figure size 432x288 with 1 Axes>"
      ]
     },
     "metadata": {
      "needs_background": "light"
     },
     "output_type": "display_data"
    }
   ],
   "source": [
    "data = df.groupby('Age Group').agg({'Avg_sleep' : 'mean'})\n",
    "\n",
    "data.plot(rot = 45, alpha = 0.75)"
   ]
  },
  {
   "cell_type": "markdown",
   "id": "e576d8e8",
   "metadata": {
    "papermill": {
     "duration": 0.010183,
     "end_time": "2022-12-18T12:29:57.442645",
     "exception": false,
     "start_time": "2022-12-18T12:29:57.432462",
     "status": "completed"
    },
    "tags": []
   },
   "source": [
    "As We can see, there clearly are. Younger people tend to sleep more. The biggest difference is between age group 15 to 24 years and 45-54 years. The former on average sleep 1 hour more than the latter. Now let's check if different age groups sleep more or less on different type of a days. \n"
   ]
  },
  {
   "cell_type": "code",
   "execution_count": 9,
   "id": "8e65099c",
   "metadata": {
    "execution": {
     "iopub.execute_input": "2022-12-18T12:29:57.465261Z",
     "iopub.status.busy": "2022-12-18T12:29:57.464834Z",
     "iopub.status.idle": "2022-12-18T12:29:57.480188Z",
     "shell.execute_reply": "2022-12-18T12:29:57.479055Z"
    },
    "papermill": {
     "duration": 0.029664,
     "end_time": "2022-12-18T12:29:57.482564",
     "exception": false,
     "start_time": "2022-12-18T12:29:57.452900",
     "status": "completed"
    },
    "tags": []
   },
   "outputs": [
    {
     "data": {
      "text/html": [
       "<div>\n",
       "<style scoped>\n",
       "    .dataframe tbody tr th:only-of-type {\n",
       "        vertical-align: middle;\n",
       "    }\n",
       "\n",
       "    .dataframe tbody tr th {\n",
       "        vertical-align: top;\n",
       "    }\n",
       "\n",
       "    .dataframe thead th {\n",
       "        text-align: right;\n",
       "    }\n",
       "</style>\n",
       "<table border=\"1\" class=\"dataframe\">\n",
       "  <thead>\n",
       "    <tr style=\"text-align: right;\">\n",
       "      <th></th>\n",
       "      <th></th>\n",
       "      <th>Avg_sleep</th>\n",
       "    </tr>\n",
       "    <tr>\n",
       "      <th>Age Group</th>\n",
       "      <th>Type of Days</th>\n",
       "      <th></th>\n",
       "    </tr>\n",
       "  </thead>\n",
       "  <tbody>\n",
       "    <tr>\n",
       "      <th rowspan=\"3\" valign=\"top\">15 to 24 years</th>\n",
       "      <th>All days</th>\n",
       "      <td>9.348222</td>\n",
       "    </tr>\n",
       "    <tr>\n",
       "      <th>Nonholiday weekdays</th>\n",
       "      <td>9.013556</td>\n",
       "    </tr>\n",
       "    <tr>\n",
       "      <th>Weekend days and holidays</th>\n",
       "      <td>10.136000</td>\n",
       "    </tr>\n",
       "    <tr>\n",
       "      <th rowspan=\"3\" valign=\"top\">25 to 34 years</th>\n",
       "      <th>All days</th>\n",
       "      <td>8.636889</td>\n",
       "    </tr>\n",
       "    <tr>\n",
       "      <th>Nonholiday weekdays</th>\n",
       "      <td>8.291778</td>\n",
       "    </tr>\n",
       "    <tr>\n",
       "      <th>Weekend days and holidays</th>\n",
       "      <td>9.450667</td>\n",
       "    </tr>\n",
       "    <tr>\n",
       "      <th rowspan=\"3\" valign=\"top\">35 to 44 years</th>\n",
       "      <th>All days</th>\n",
       "      <td>8.432444</td>\n",
       "    </tr>\n",
       "    <tr>\n",
       "      <th>Nonholiday weekdays</th>\n",
       "      <td>8.093111</td>\n",
       "    </tr>\n",
       "    <tr>\n",
       "      <th>Weekend days and holidays</th>\n",
       "      <td>9.233111</td>\n",
       "    </tr>\n",
       "    <tr>\n",
       "      <th rowspan=\"3\" valign=\"top\">45 to 54 years</th>\n",
       "      <th>All days</th>\n",
       "      <td>8.337333</td>\n",
       "    </tr>\n",
       "    <tr>\n",
       "      <th>Nonholiday weekdays</th>\n",
       "      <td>8.012222</td>\n",
       "    </tr>\n",
       "    <tr>\n",
       "      <th>Weekend days and holidays</th>\n",
       "      <td>9.102667</td>\n",
       "    </tr>\n",
       "    <tr>\n",
       "      <th rowspan=\"3\" valign=\"top\">55 to 64 years</th>\n",
       "      <th>All days</th>\n",
       "      <td>8.405333</td>\n",
       "    </tr>\n",
       "    <tr>\n",
       "      <th>Nonholiday weekdays</th>\n",
       "      <td>8.178444</td>\n",
       "    </tr>\n",
       "    <tr>\n",
       "      <th>Weekend days and holidays</th>\n",
       "      <td>8.944000</td>\n",
       "    </tr>\n",
       "    <tr>\n",
       "      <th rowspan=\"3\" valign=\"top\">65 years and over</th>\n",
       "      <th>All days</th>\n",
       "      <td>8.925556</td>\n",
       "    </tr>\n",
       "    <tr>\n",
       "      <th>Nonholiday weekdays</th>\n",
       "      <td>8.837778</td>\n",
       "    </tr>\n",
       "    <tr>\n",
       "      <th>Weekend days and holidays</th>\n",
       "      <td>9.134222</td>\n",
       "    </tr>\n",
       "  </tbody>\n",
       "</table>\n",
       "</div>"
      ],
      "text/plain": [
       "                                             Avg_sleep\n",
       "Age Group         Type of Days                        \n",
       "15 to 24 years    All days                    9.348222\n",
       "                  Nonholiday weekdays         9.013556\n",
       "                  Weekend days and holidays  10.136000\n",
       "25 to 34 years    All days                    8.636889\n",
       "                  Nonholiday weekdays         8.291778\n",
       "                  Weekend days and holidays   9.450667\n",
       "35 to 44 years    All days                    8.432444\n",
       "                  Nonholiday weekdays         8.093111\n",
       "                  Weekend days and holidays   9.233111\n",
       "45 to 54 years    All days                    8.337333\n",
       "                  Nonholiday weekdays         8.012222\n",
       "                  Weekend days and holidays   9.102667\n",
       "55 to 64 years    All days                    8.405333\n",
       "                  Nonholiday weekdays         8.178444\n",
       "                  Weekend days and holidays   8.944000\n",
       "65 years and over All days                    8.925556\n",
       "                  Nonholiday weekdays         8.837778\n",
       "                  Weekend days and holidays   9.134222"
      ]
     },
     "execution_count": 9,
     "metadata": {},
     "output_type": "execute_result"
    }
   ],
   "source": [
    "df.groupby(['Age Group', 'Type of Days']).agg({'Avg_sleep' : 'mean'})"
   ]
  },
  {
   "cell_type": "markdown",
   "id": "e5be814e",
   "metadata": {
    "papermill": {
     "duration": 0.010398,
     "end_time": "2022-12-18T12:29:57.503795",
     "exception": false,
     "start_time": "2022-12-18T12:29:57.493397",
     "status": "completed"
    },
    "tags": []
   },
   "source": [
    "The most stark difference is in the younger people. Given the chance, young people tend to sleep even more. Every generation seems to take a bit more time to sleep on off days, except people who are 65 years and more, probably because every day is off day when you are retired. We can also visualize this, so the differences are better seen. "
   ]
  },
  {
   "cell_type": "code",
   "execution_count": 10,
   "id": "380dc215",
   "metadata": {
    "execution": {
     "iopub.execute_input": "2022-12-18T12:29:57.527674Z",
     "iopub.status.busy": "2022-12-18T12:29:57.526981Z",
     "iopub.status.idle": "2022-12-18T12:29:58.415887Z",
     "shell.execute_reply": "2022-12-18T12:29:58.414575Z"
    },
    "papermill": {
     "duration": 0.903511,
     "end_time": "2022-12-18T12:29:58.418279",
     "exception": false,
     "start_time": "2022-12-18T12:29:57.514768",
     "status": "completed"
    },
    "tags": []
   },
   "outputs": [
    {
     "data": {
      "text/plain": [
       "(array([0, 1, 2, 3, 4, 5]),\n",
       " [Text(0, 0, '15 to 24 years'),\n",
       "  Text(1, 0, '25 to 34 years'),\n",
       "  Text(2, 0, '35 to 44 years'),\n",
       "  Text(3, 0, '45 to 54 years'),\n",
       "  Text(4, 0, '55 to 64 years'),\n",
       "  Text(5, 0, '65 years and over')])"
      ]
     },
     "execution_count": 10,
     "metadata": {},
     "output_type": "execute_result"
    },
    {
     "data": {
      "image/png": "[encoded data removed]",
      "text/plain": [
       "<Figure size 535.375x360 with 1 Axes>"
      ]
     },
     "metadata": {
      "needs_background": "light"
     },
     "output_type": "display_data"
    }
   ],
   "source": [
    "sns.catplot(kind = 'bar', data = df, x = 'Age Group', y = 'Avg_sleep', hue = 'Type of Days')\n",
    "plt.xticks(rotation=45)\n"
   ]
  },
  {
   "cell_type": "markdown",
   "id": "4c9685d6",
   "metadata": {
    "papermill": {
     "duration": 0.010999,
     "end_time": "2022-12-18T12:29:58.440550",
     "exception": false,
     "start_time": "2022-12-18T12:29:58.429551",
     "status": "completed"
    },
    "tags": []
   },
   "source": [
    "The last thing that we can analyze is how our sleeping patters changed over the last decade. If we check for any differences between between all ages, sexes and type of days, we can see that the average has been slowly increasing. "
   ]
  },
  {
   "cell_type": "code",
   "execution_count": 11,
   "id": "c670dd29",
   "metadata": {
    "execution": {
     "iopub.execute_input": "2022-12-18T12:29:58.464692Z",
     "iopub.status.busy": "2022-12-18T12:29:58.464305Z",
     "iopub.status.idle": "2022-12-18T12:29:58.654554Z",
     "shell.execute_reply": "2022-12-18T12:29:58.653272Z"
    },
    "papermill": {
     "duration": 0.20541,
     "end_time": "2022-12-18T12:29:58.657038",
     "exception": false,
     "start_time": "2022-12-18T12:29:58.451628",
     "status": "completed"
    },
    "tags": []
   },
   "outputs": [
    {
     "data": {
      "text/plain": [
       "[<matplotlib.lines.Line2D at 0x7f59cc48ea10>]"
      ]
     },
     "execution_count": 11,
     "metadata": {},
     "output_type": "execute_result"
    },
    {
     "data": {
      "image/png": "[encoded data removed]",
      "text/plain": [
       "<Figure size 432x288 with 1 Axes>"
      ]
     },
     "metadata": {
      "needs_background": "light"
     },
     "output_type": "display_data"
    }
   ],
   "source": [
    "df.groupby(['Year']).agg({'Avg_sleep' : 'mean'})\n",
    "plt.plot(df.groupby('Year')['Avg_sleep'].mean())"
   ]
  },
  {
   "cell_type": "markdown",
   "id": "05f1a372",
   "metadata": {
    "papermill": {
     "duration": 0.011157,
     "end_time": "2022-12-18T12:29:58.679780",
     "exception": false,
     "start_time": "2022-12-18T12:29:58.668623",
     "status": "completed"
    },
    "tags": []
   },
   "source": [
    "We can see that on average the time spent sleeping has increased about 12 minutes. This may not seem like a lot, but if we take into an account that his figure has been slowly rising over the years, a clear trend is indicated. Now let's dive into our data to see where the changes in sleep have been most prominent. "
   ]
  },
  {
   "cell_type": "code",
   "execution_count": 12,
   "id": "a55eac2e",
   "metadata": {
    "execution": {
     "iopub.execute_input": "2022-12-18T12:29:58.704640Z",
     "iopub.status.busy": "2022-12-18T12:29:58.703936Z",
     "iopub.status.idle": "2022-12-18T12:29:58.721754Z",
     "shell.execute_reply": "2022-12-18T12:29:58.720681Z"
    },
    "papermill": {
     "duration": 0.032844,
     "end_time": "2022-12-18T12:29:58.724087",
     "exception": false,
     "start_time": "2022-12-18T12:29:58.691243",
     "status": "completed"
    },
    "tags": []
   },
   "outputs": [
    {
     "data": {
      "text/html": [
       "<div>\n",
       "<style scoped>\n",
       "    .dataframe tbody tr th:only-of-type {\n",
       "        vertical-align: middle;\n",
       "    }\n",
       "\n",
       "    .dataframe tbody tr th {\n",
       "        vertical-align: top;\n",
       "    }\n",
       "\n",
       "    .dataframe thead th {\n",
       "        text-align: right;\n",
       "    }\n",
       "</style>\n",
       "<table border=\"1\" class=\"dataframe\">\n",
       "  <thead>\n",
       "    <tr style=\"text-align: right;\">\n",
       "      <th></th>\n",
       "      <th></th>\n",
       "      <th>Avg_sleep</th>\n",
       "    </tr>\n",
       "    <tr>\n",
       "      <th>Year</th>\n",
       "      <th>Sex</th>\n",
       "      <th></th>\n",
       "    </tr>\n",
       "  </thead>\n",
       "  <tbody>\n",
       "    <tr>\n",
       "      <th rowspan=\"3\" valign=\"top\">2003</th>\n",
       "      <th>Both</th>\n",
       "      <td>8.702222</td>\n",
       "    </tr>\n",
       "    <tr>\n",
       "      <th>Men</th>\n",
       "      <td>8.625556</td>\n",
       "    </tr>\n",
       "    <tr>\n",
       "      <th>Women</th>\n",
       "      <td>8.777222</td>\n",
       "    </tr>\n",
       "    <tr>\n",
       "      <th rowspan=\"3\" valign=\"top\">2004</th>\n",
       "      <th>Both</th>\n",
       "      <td>8.677778</td>\n",
       "    </tr>\n",
       "    <tr>\n",
       "      <th>Men</th>\n",
       "      <td>8.623333</td>\n",
       "    </tr>\n",
       "    <tr>\n",
       "      <th>Women</th>\n",
       "      <td>8.730556</td>\n",
       "    </tr>\n",
       "    <tr>\n",
       "      <th rowspan=\"3\" valign=\"top\">2005</th>\n",
       "      <th>Both</th>\n",
       "      <td>8.745000</td>\n",
       "    </tr>\n",
       "    <tr>\n",
       "      <th>Men</th>\n",
       "      <td>8.662778</td>\n",
       "    </tr>\n",
       "    <tr>\n",
       "      <th>Women</th>\n",
       "      <td>8.826667</td>\n",
       "    </tr>\n",
       "    <tr>\n",
       "      <th rowspan=\"3\" valign=\"top\">2006</th>\n",
       "      <th>Both</th>\n",
       "      <td>8.756667</td>\n",
       "    </tr>\n",
       "    <tr>\n",
       "      <th>Men</th>\n",
       "      <td>8.706111</td>\n",
       "    </tr>\n",
       "    <tr>\n",
       "      <th>Women</th>\n",
       "      <td>8.810556</td>\n",
       "    </tr>\n",
       "    <tr>\n",
       "      <th rowspan=\"3\" valign=\"top\">2007</th>\n",
       "      <th>Both</th>\n",
       "      <td>8.697222</td>\n",
       "    </tr>\n",
       "    <tr>\n",
       "      <th>Men</th>\n",
       "      <td>8.656667</td>\n",
       "    </tr>\n",
       "    <tr>\n",
       "      <th>Women</th>\n",
       "      <td>8.735000</td>\n",
       "    </tr>\n",
       "    <tr>\n",
       "      <th rowspan=\"3\" valign=\"top\">2008</th>\n",
       "      <th>Both</th>\n",
       "      <td>8.731111</td>\n",
       "    </tr>\n",
       "    <tr>\n",
       "      <th>Men</th>\n",
       "      <td>8.692222</td>\n",
       "    </tr>\n",
       "    <tr>\n",
       "      <th>Women</th>\n",
       "      <td>8.770000</td>\n",
       "    </tr>\n",
       "    <tr>\n",
       "      <th rowspan=\"3\" valign=\"top\">2009</th>\n",
       "      <th>Both</th>\n",
       "      <td>8.797222</td>\n",
       "    </tr>\n",
       "    <tr>\n",
       "      <th>Men</th>\n",
       "      <td>8.750000</td>\n",
       "    </tr>\n",
       "    <tr>\n",
       "      <th>Women</th>\n",
       "      <td>8.840000</td>\n",
       "    </tr>\n",
       "    <tr>\n",
       "      <th rowspan=\"3\" valign=\"top\">2010</th>\n",
       "      <th>Both</th>\n",
       "      <td>8.796111</td>\n",
       "    </tr>\n",
       "    <tr>\n",
       "      <th>Men</th>\n",
       "      <td>8.708889</td>\n",
       "    </tr>\n",
       "    <tr>\n",
       "      <th>Women</th>\n",
       "      <td>8.881667</td>\n",
       "    </tr>\n",
       "    <tr>\n",
       "      <th rowspan=\"3\" valign=\"top\">2011</th>\n",
       "      <th>Both</th>\n",
       "      <td>8.833889</td>\n",
       "    </tr>\n",
       "    <tr>\n",
       "      <th>Men</th>\n",
       "      <td>8.752222</td>\n",
       "    </tr>\n",
       "    <tr>\n",
       "      <th>Women</th>\n",
       "      <td>8.911111</td>\n",
       "    </tr>\n",
       "    <tr>\n",
       "      <th rowspan=\"3\" valign=\"top\">2012</th>\n",
       "      <th>Both</th>\n",
       "      <td>8.850000</td>\n",
       "    </tr>\n",
       "    <tr>\n",
       "      <th>Men</th>\n",
       "      <td>8.725556</td>\n",
       "    </tr>\n",
       "    <tr>\n",
       "      <th>Women</th>\n",
       "      <td>8.971111</td>\n",
       "    </tr>\n",
       "    <tr>\n",
       "      <th rowspan=\"3\" valign=\"top\">2013</th>\n",
       "      <th>Both</th>\n",
       "      <td>8.845556</td>\n",
       "    </tr>\n",
       "    <tr>\n",
       "      <th>Men</th>\n",
       "      <td>8.767222</td>\n",
       "    </tr>\n",
       "    <tr>\n",
       "      <th>Women</th>\n",
       "      <td>8.920556</td>\n",
       "    </tr>\n",
       "    <tr>\n",
       "      <th rowspan=\"3\" valign=\"top\">2014</th>\n",
       "      <th>Both</th>\n",
       "      <td>8.902778</td>\n",
       "    </tr>\n",
       "    <tr>\n",
       "      <th>Men</th>\n",
       "      <td>8.785000</td>\n",
       "    </tr>\n",
       "    <tr>\n",
       "      <th>Women</th>\n",
       "      <td>9.015556</td>\n",
       "    </tr>\n",
       "    <tr>\n",
       "      <th rowspan=\"3\" valign=\"top\">2015</th>\n",
       "      <th>Both</th>\n",
       "      <td>8.937222</td>\n",
       "    </tr>\n",
       "    <tr>\n",
       "      <th>Men</th>\n",
       "      <td>8.868889</td>\n",
       "    </tr>\n",
       "    <tr>\n",
       "      <th>Women</th>\n",
       "      <td>9.002778</td>\n",
       "    </tr>\n",
       "    <tr>\n",
       "      <th rowspan=\"3\" valign=\"top\">2016</th>\n",
       "      <th>Both</th>\n",
       "      <td>8.915556</td>\n",
       "    </tr>\n",
       "    <tr>\n",
       "      <th>Men</th>\n",
       "      <td>8.827778</td>\n",
       "    </tr>\n",
       "    <tr>\n",
       "      <th>Women</th>\n",
       "      <td>8.997222</td>\n",
       "    </tr>\n",
       "    <tr>\n",
       "      <th rowspan=\"3\" valign=\"top\">2017</th>\n",
       "      <th>Both</th>\n",
       "      <td>8.919444</td>\n",
       "    </tr>\n",
       "    <tr>\n",
       "      <th>Men</th>\n",
       "      <td>8.813889</td>\n",
       "    </tr>\n",
       "    <tr>\n",
       "      <th>Women</th>\n",
       "      <td>9.019444</td>\n",
       "    </tr>\n",
       "  </tbody>\n",
       "</table>\n",
       "</div>"
      ],
      "text/plain": [
       "            Avg_sleep\n",
       "Year Sex             \n",
       "2003 Both    8.702222\n",
       "     Men     8.625556\n",
       "     Women   8.777222\n",
       "2004 Both    8.677778\n",
       "     Men     8.623333\n",
       "     Women   8.730556\n",
       "2005 Both    8.745000\n",
       "     Men     8.662778\n",
       "     Women   8.826667\n",
       "2006 Both    8.756667\n",
       "     Men     8.706111\n",
       "     Women   8.810556\n",
       "2007 Both    8.697222\n",
       "     Men     8.656667\n",
       "     Women   8.735000\n",
       "2008 Both    8.731111\n",
       "     Men     8.692222\n",
       "     Women   8.770000\n",
       "2009 Both    8.797222\n",
       "     Men     8.750000\n",
       "     Women   8.840000\n",
       "2010 Both    8.796111\n",
       "     Men     8.708889\n",
       "     Women   8.881667\n",
       "2011 Both    8.833889\n",
       "     Men     8.752222\n",
       "     Women   8.911111\n",
       "2012 Both    8.850000\n",
       "     Men     8.725556\n",
       "     Women   8.971111\n",
       "2013 Both    8.845556\n",
       "     Men     8.767222\n",
       "     Women   8.920556\n",
       "2014 Both    8.902778\n",
       "     Men     8.785000\n",
       "     Women   9.015556\n",
       "2015 Both    8.937222\n",
       "     Men     8.868889\n",
       "     Women   9.002778\n",
       "2016 Both    8.915556\n",
       "     Men     8.827778\n",
       "     Women   8.997222\n",
       "2017 Both    8.919444\n",
       "     Men     8.813889\n",
       "     Women   9.019444"
      ]
     },
     "execution_count": 12,
     "metadata": {},
     "output_type": "execute_result"
    }
   ],
   "source": [
    "df.groupby(['Year', 'Sex']).agg({'Avg_sleep' : 'mean'})"
   ]
  },
  {
   "cell_type": "markdown",
   "id": "f1f76a2f",
   "metadata": {
    "papermill": {
     "duration": 0.011427,
     "end_time": "2022-12-18T12:29:58.747188",
     "exception": false,
     "start_time": "2022-12-18T12:29:58.735761",
     "status": "completed"
    },
    "tags": []
   },
   "source": [
    "Data indicates that over the years the average sleeping time on all type of days has increased for women almost twice as much as it did for men. If we compare the earliest data and latest data for men and women, the average time for men has increased about 11 minutes, while for women 19 minutes.\n",
    "Visualizing it, we can see the average slowly rising. "
   ]
  },
  {
   "cell_type": "code",
   "execution_count": 13,
   "id": "8a006015",
   "metadata": {
    "execution": {
     "iopub.execute_input": "2022-12-18T12:29:58.772002Z",
     "iopub.status.busy": "2022-12-18T12:29:58.771630Z",
     "iopub.status.idle": "2022-12-18T12:30:00.442981Z",
     "shell.execute_reply": "2022-12-18T12:30:00.441861Z"
    },
    "papermill": {
     "duration": 1.68664,
     "end_time": "2022-12-18T12:30:00.445281",
     "exception": false,
     "start_time": "2022-12-18T12:29:58.758641",
     "status": "completed"
    },
    "tags": []
   },
   "outputs": [
    {
     "data": {
      "text/plain": [
       "(array([ 0,  1,  2,  3,  4,  5,  6,  7,  8,  9, 10, 11, 12, 13, 14]),\n",
       " [Text(0, 0, '2003'),\n",
       "  Text(1, 0, '2004'),\n",
       "  Text(2, 0, '2005'),\n",
       "  Text(3, 0, '2006'),\n",
       "  Text(4, 0, '2007'),\n",
       "  Text(5, 0, '2008'),\n",
       "  Text(6, 0, '2009'),\n",
       "  Text(7, 0, '2010'),\n",
       "  Text(8, 0, '2011'),\n",
       "  Text(9, 0, '2012'),\n",
       "  Text(10, 0, '2013'),\n",
       "  Text(11, 0, '2014'),\n",
       "  Text(12, 0, '2015'),\n",
       "  Text(13, 0, '2016'),\n",
       "  Text(14, 0, '2017')])"
      ]
     },
     "execution_count": 13,
     "metadata": {},
     "output_type": "execute_result"
    },
    {
     "data": {
      "image/png": "[encoded data removed]",
      "text/plain": [
       "<Figure size 433.375x360 with 1 Axes>"
      ]
     },
     "metadata": {
      "needs_background": "light"
     },
     "output_type": "display_data"
    }
   ],
   "source": [
    "sns.catplot(kind = 'bar', data = df, x = 'Year', y = 'Avg_sleep', hue = 'Sex')\n",
    "plt.xticks(rotation=45)"
   ]
  },
  {
   "cell_type": "markdown",
   "id": "e85ceb3f",
   "metadata": {
    "papermill": {
     "duration": 0.01196,
     "end_time": "2022-12-18T12:30:00.469819",
     "exception": false,
     "start_time": "2022-12-18T12:30:00.457859",
     "status": "completed"
    },
    "tags": []
   },
   "source": [
    "Let'see what differences lie in age groups. \n",
    "\n",
    "First we'll create a separate dataset to isolate the data we're looking for. "
   ]
  },
  {
   "cell_type": "code",
   "execution_count": 14,
   "id": "b97501d4",
   "metadata": {
    "execution": {
     "iopub.execute_input": "2022-12-18T12:30:00.495747Z",
     "iopub.status.busy": "2022-12-18T12:30:00.495353Z",
     "iopub.status.idle": "2022-12-18T12:30:00.502766Z",
     "shell.execute_reply": "2022-12-18T12:30:00.501902Z"
    },
    "papermill": {
     "duration": 0.023023,
     "end_time": "2022-12-18T12:30:00.504926",
     "exception": false,
     "start_time": "2022-12-18T12:30:00.481903",
     "status": "completed"
    },
    "tags": []
   },
   "outputs": [],
   "source": [
    "data = df.groupby(['Age Group', 'Year']).agg({'Avg_sleep' : 'mean'})"
   ]
  },
  {
   "cell_type": "markdown",
   "id": "eb8ad068",
   "metadata": {
    "papermill": {
     "duration": 0.011703,
     "end_time": "2022-12-18T12:30:00.528956",
     "exception": false,
     "start_time": "2022-12-18T12:30:00.517253",
     "status": "completed"
    },
    "tags": []
   },
   "source": [
    "We reset the index, so it'll be easier for us to go through the data with a for loop. "
   ]
  },
  {
   "cell_type": "code",
   "execution_count": 15,
   "id": "a126509a",
   "metadata": {
    "execution": {
     "iopub.execute_input": "2022-12-18T12:30:00.555226Z",
     "iopub.status.busy": "2022-12-18T12:30:00.554787Z",
     "iopub.status.idle": "2022-12-18T12:30:00.561719Z",
     "shell.execute_reply": "2022-12-18T12:30:00.560641Z"
    },
    "papermill": {
     "duration": 0.023001,
     "end_time": "2022-12-18T12:30:00.564162",
     "exception": false,
     "start_time": "2022-12-18T12:30:00.541161",
     "status": "completed"
    },
    "tags": []
   },
   "outputs": [],
   "source": [
    "data = data.reset_index()"
   ]
  },
  {
   "cell_type": "markdown",
   "id": "47654f3a",
   "metadata": {
    "papermill": {
     "duration": 0.01194,
     "end_time": "2022-12-18T12:30:00.588513",
     "exception": false,
     "start_time": "2022-12-18T12:30:00.576573",
     "status": "completed"
    },
    "tags": []
   },
   "source": [
    "We gather all the groups we are going to analyze."
   ]
  },
  {
   "cell_type": "code",
   "execution_count": 16,
   "id": "4f1d6b40",
   "metadata": {
    "execution": {
     "iopub.execute_input": "2022-12-18T12:30:00.615014Z",
     "iopub.status.busy": "2022-12-18T12:30:00.614630Z",
     "iopub.status.idle": "2022-12-18T12:30:00.620281Z",
     "shell.execute_reply": "2022-12-18T12:30:00.619122Z"
    },
    "papermill": {
     "duration": 0.021793,
     "end_time": "2022-12-18T12:30:00.622575",
     "exception": false,
     "start_time": "2022-12-18T12:30:00.600782",
     "status": "completed"
    },
    "tags": []
   },
   "outputs": [],
   "source": [
    "age_groups = data['Age Group'].unique()"
   ]
  },
  {
   "cell_type": "markdown",
   "id": "de0eb83a",
   "metadata": {
    "papermill": {
     "duration": 0.011814,
     "end_time": "2022-12-18T12:30:00.646610",
     "exception": false,
     "start_time": "2022-12-18T12:30:00.634796",
     "status": "completed"
    },
    "tags": []
   },
   "source": [
    "Let's first visualize the data, to see if the trend of average sleep is increasing of the years in age groups as well. "
   ]
  },
  {
   "cell_type": "code",
   "execution_count": 17,
   "id": "001f7998",
   "metadata": {
    "execution": {
     "iopub.execute_input": "2022-12-18T12:30:00.672734Z",
     "iopub.status.busy": "2022-12-18T12:30:00.672301Z",
     "iopub.status.idle": "2022-12-18T12:30:01.568467Z",
     "shell.execute_reply": "2022-12-18T12:30:01.567240Z"
    },
    "papermill": {
     "duration": 0.912163,
     "end_time": "2022-12-18T12:30:01.570855",
     "exception": false,
     "start_time": "2022-12-18T12:30:00.658692",
     "status": "completed"
    },
    "tags": []
   },
   "outputs": [
    {
     "data": {
      "image/png": "[encoded data removed]",
      "text/plain": [
       "<Figure size 1206.62x1080 with 1 Axes>"
      ]
     },
     "metadata": {
      "needs_background": "light"
     },
     "output_type": "display_data"
    }
   ],
   "source": [
    "sns.catplot(kind = 'bar', data = data, x = 'Year', y = 'Avg_sleep', hue = 'Age Group', height = 15)\n",
    "plt.xticks(rotation=45)\n",
    "plt.show()"
   ]
  },
  {
   "cell_type": "markdown",
   "id": "d921f490",
   "metadata": {
    "papermill": {
     "duration": 0.012207,
     "end_time": "2022-12-18T12:30:01.595962",
     "exception": false,
     "start_time": "2022-12-18T12:30:01.583755",
     "status": "completed"
    },
    "tags": []
   },
   "source": [
    "There are some trends that are discernible from the graph, but it's best if we look at age groups separately to see a clearer picture.\n",
    "\n",
    "Then we go through all the data with a for loop, calculating the difference between the year 2003 and the year 2017 to see what kind of the difference we have. "
   ]
  },
  {
   "cell_type": "code",
   "execution_count": 18,
   "id": "3dc91272",
   "metadata": {
    "execution": {
     "iopub.execute_input": "2022-12-18T12:30:01.623165Z",
     "iopub.status.busy": "2022-12-18T12:30:01.622744Z",
     "iopub.status.idle": "2022-12-18T12:30:03.064970Z",
     "shell.execute_reply": "2022-12-18T12:30:03.063624Z"
    },
    "papermill": {
     "duration": 1.458951,
     "end_time": "2022-12-18T12:30:03.067505",
     "exception": false,
     "start_time": "2022-12-18T12:30:01.608554",
     "status": "completed"
    },
    "tags": []
   },
   "outputs": [
    {
     "name": "stdout",
     "output_type": "stream",
     "text": [
      "For generation 15 to 24 years, the difference in sleep was 31.59999999999993 minutes\n",
      "For generation 25 to 34 years, the difference in sleep was 13.800000000000026 minutes\n",
      "For generation 35 to 44 years, the difference in sleep was 13.399999999999963 minutes\n",
      "For generation 45 to 54 years, the difference in sleep was 18.400000000000105 minutes\n",
      "For generation 55 to 64 years, the difference in sleep was 3.60000000000003 minutes\n",
      "For generation 65 years and over, the difference in sleep was -3.066666666666613 minutes\n"
     ]
    },
    {
     "data": {
      "image/png": "[encoded data removed]",
      "text/plain": [
       "<Figure size 2160x576 with 6 Axes>"
      ]
     },
     "metadata": {
      "needs_background": "light"
     },
     "output_type": "display_data"
    }
   ],
   "source": [
    "fig, axes = plt.subplots(1,6, sharex=True, figsize=(30,8))\n",
    "for age in range(len(age_groups)):\n",
    "    age_group = data[data['Age Group'] == age_groups[age]]\n",
    "    sns.barplot(ax=axes[age], x=age_group['Year'], y=age_group['Avg_sleep'])\n",
    "    axes[age].set_title(age_groups[age])\n",
    "    axes[age].tick_params(axis='x', rotation=45)\n",
    "    \n",
    "    sleep = list(age_group['Avg_sleep'])\n",
    "    sleep_difference = 60*(sleep[-1] - sleep[0])\n",
    "    \n",
    "    print('For generation {0}, the difference in sleep was {1} minutes'.format(age_groups[age],sleep_difference)) \n"
   ]
  },
  {
   "cell_type": "markdown",
   "id": "d5aee685",
   "metadata": {
    "papermill": {
     "duration": 0.013195,
     "end_time": "2022-12-18T12:30:03.094713",
     "exception": false,
     "start_time": "2022-12-18T12:30:03.081518",
     "status": "completed"
    },
    "tags": []
   },
   "source": [
    "For our model, we will use random forest regressor.\n",
    "\n",
    "First we categorize the data and select our target and feature variables.\n"
   ]
  },
  {
   "cell_type": "code",
   "execution_count": 19,
   "id": "e0c191cc",
   "metadata": {
    "execution": {
     "iopub.execute_input": "2022-12-18T12:30:03.124157Z",
     "iopub.status.busy": "2022-12-18T12:30:03.123535Z",
     "iopub.status.idle": "2022-12-18T12:30:03.139912Z",
     "shell.execute_reply": "2022-12-18T12:30:03.138786Z"
    },
    "papermill": {
     "duration": 0.033591,
     "end_time": "2022-12-18T12:30:03.142367",
     "exception": false,
     "start_time": "2022-12-18T12:30:03.108776",
     "status": "completed"
    },
    "tags": []
   },
   "outputs": [
    {
     "data": {
      "text/html": [
       "<div>\n",
       "<style scoped>\n",
       "    .dataframe tbody tr th:only-of-type {\n",
       "        vertical-align: middle;\n",
       "    }\n",
       "\n",
       "    .dataframe tbody tr th {\n",
       "        vertical-align: top;\n",
       "    }\n",
       "\n",
       "    .dataframe thead th {\n",
       "        text-align: right;\n",
       "    }\n",
       "</style>\n",
       "<table border=\"1\" class=\"dataframe\">\n",
       "  <thead>\n",
       "    <tr style=\"text-align: right;\">\n",
       "      <th></th>\n",
       "      <th>Year</th>\n",
       "      <th>Avg_sleep</th>\n",
       "      <th>Type of Days</th>\n",
       "      <th>Age Group</th>\n",
       "      <th>Sex</th>\n",
       "      <th>Age</th>\n",
       "      <th>S</th>\n",
       "      <th>Day</th>\n",
       "    </tr>\n",
       "  </thead>\n",
       "  <tbody>\n",
       "    <tr>\n",
       "      <th>45</th>\n",
       "      <td>2003</td>\n",
       "      <td>9.15</td>\n",
       "      <td>All days</td>\n",
       "      <td>15 to 24 years</td>\n",
       "      <td>Both</td>\n",
       "      <td>0</td>\n",
       "      <td>0</td>\n",
       "      <td>0</td>\n",
       "    </tr>\n",
       "    <tr>\n",
       "      <th>46</th>\n",
       "      <td>2004</td>\n",
       "      <td>9.23</td>\n",
       "      <td>All days</td>\n",
       "      <td>15 to 24 years</td>\n",
       "      <td>Both</td>\n",
       "      <td>0</td>\n",
       "      <td>0</td>\n",
       "      <td>0</td>\n",
       "    </tr>\n",
       "    <tr>\n",
       "      <th>47</th>\n",
       "      <td>2005</td>\n",
       "      <td>9.27</td>\n",
       "      <td>All days</td>\n",
       "      <td>15 to 24 years</td>\n",
       "      <td>Both</td>\n",
       "      <td>0</td>\n",
       "      <td>0</td>\n",
       "      <td>0</td>\n",
       "    </tr>\n",
       "    <tr>\n",
       "      <th>48</th>\n",
       "      <td>2006</td>\n",
       "      <td>9.19</td>\n",
       "      <td>All days</td>\n",
       "      <td>15 to 24 years</td>\n",
       "      <td>Both</td>\n",
       "      <td>0</td>\n",
       "      <td>0</td>\n",
       "      <td>0</td>\n",
       "    </tr>\n",
       "    <tr>\n",
       "      <th>49</th>\n",
       "      <td>2007</td>\n",
       "      <td>9.11</td>\n",
       "      <td>All days</td>\n",
       "      <td>15 to 24 years</td>\n",
       "      <td>Both</td>\n",
       "      <td>0</td>\n",
       "      <td>0</td>\n",
       "      <td>0</td>\n",
       "    </tr>\n",
       "  </tbody>\n",
       "</table>\n",
       "</div>"
      ],
      "text/plain": [
       "    Year  Avg_sleep Type of Days       Age Group   Sex  Age  S  Day\n",
       "45  2003       9.15     All days  15 to 24 years  Both    0  0    0\n",
       "46  2004       9.23     All days  15 to 24 years  Both    0  0    0\n",
       "47  2005       9.27     All days  15 to 24 years  Both    0  0    0\n",
       "48  2006       9.19     All days  15 to 24 years  Both    0  0    0\n",
       "49  2007       9.11     All days  15 to 24 years  Both    0  0    0"
      ]
     },
     "execution_count": 19,
     "metadata": {},
     "output_type": "execute_result"
    }
   ],
   "source": [
    "df['Age'] = df['Age Group'].factorize()[0]\n",
    "df['S'] = df.Sex.factorize()[0]\n",
    "df['Day'] = df['Type of Days'].factorize()[0]\n",
    "df.head()"
   ]
  },
  {
   "cell_type": "code",
   "execution_count": 20,
   "id": "817c231c",
   "metadata": {
    "execution": {
     "iopub.execute_input": "2022-12-18T12:30:03.170670Z",
     "iopub.status.busy": "2022-12-18T12:30:03.170253Z",
     "iopub.status.idle": "2022-12-18T12:30:03.176938Z",
     "shell.execute_reply": "2022-12-18T12:30:03.176124Z"
    },
    "papermill": {
     "duration": 0.023254,
     "end_time": "2022-12-18T12:30:03.178992",
     "exception": false,
     "start_time": "2022-12-18T12:30:03.155738",
     "status": "completed"
    },
    "tags": []
   },
   "outputs": [],
   "source": [
    "features = ['Year', 'Age', 'S', 'Day']\n",
    "target = ['Avg_sleep']\n",
    "X = df[['Year','Age', 'S', 'Day']]\n",
    "y = df['Avg_sleep']"
   ]
  },
  {
   "cell_type": "markdown",
   "id": "78884ede",
   "metadata": {
    "papermill": {
     "duration": 0.012942,
     "end_time": "2022-12-18T12:30:03.205246",
     "exception": false,
     "start_time": "2022-12-18T12:30:03.192304",
     "status": "completed"
    },
    "tags": []
   },
   "source": [
    "Then, we train the model and evaluate our predictions. "
   ]
  },
  {
   "cell_type": "code",
   "execution_count": 21,
   "id": "34f5cca0",
   "metadata": {
    "execution": {
     "iopub.execute_input": "2022-12-18T12:30:03.233600Z",
     "iopub.status.busy": "2022-12-18T12:30:03.233191Z",
     "iopub.status.idle": "2022-12-18T12:30:03.432740Z",
     "shell.execute_reply": "2022-12-18T12:30:03.431466Z"
    },
    "papermill": {
     "duration": 0.216431,
     "end_time": "2022-12-18T12:30:03.434990",
     "exception": false,
     "start_time": "2022-12-18T12:30:03.218559",
     "status": "completed"
    },
    "tags": []
   },
   "outputs": [
    {
     "name": "stdout",
     "output_type": "stream",
     "text": [
      "0.07758768472906379\n"
     ]
    }
   ],
   "source": [
    "df_model = RandomForestRegressor(random_state = 1)\n",
    "\n",
    "train_X, test_X, train_y, test_y = train_test_split(X, y, random_state = 0)\n",
    "\n",
    "df_model.fit(train_X, train_y)\n",
    "\n",
    "df_predict = df_model.predict(test_X)\n",
    "\n",
    "df_mae = mean_absolute_error(df_predict, test_y)\n",
    "\n",
    "print(df_mae)"
   ]
  },
  {
   "cell_type": "markdown",
   "id": "ca33cfa3",
   "metadata": {
    "papermill": {
     "duration": 0.013527,
     "end_time": "2022-12-18T12:30:03.462187",
     "exception": false,
     "start_time": "2022-12-18T12:30:03.448660",
     "status": "completed"
    },
    "tags": []
   },
   "source": [
    "We can now save the model and test it's accuracy on all of our data. "
   ]
  },
  {
   "cell_type": "code",
   "execution_count": 22,
   "id": "26cbb2d2",
   "metadata": {
    "execution": {
     "iopub.execute_input": "2022-12-18T12:30:03.491174Z",
     "iopub.status.busy": "2022-12-18T12:30:03.490431Z",
     "iopub.status.idle": "2022-12-18T12:30:03.544432Z",
     "shell.execute_reply": "2022-12-18T12:30:03.543151Z"
    },
    "papermill": {
     "duration": 0.071841,
     "end_time": "2022-12-18T12:30:03.547480",
     "exception": false,
     "start_time": "2022-12-18T12:30:03.475639",
     "status": "completed"
    },
    "tags": []
   },
   "outputs": [
    {
     "name": "stdout",
     "output_type": "stream",
     "text": [
      "0.965932505326587\n"
     ]
    }
   ],
   "source": [
    "filename= 'final_model'\n",
    "pickle.dump(df_model, open(filename, 'wb'))\n",
    "\n",
    "\n",
    "loaded_model = pickle.load(open(filename, 'rb'))\n",
    "result = loaded_model.score(test_X, test_y)\n",
    "print(result)\n"
   ]
  },
  {
   "cell_type": "code",
   "execution_count": null,
   "id": "2797553e",
   "metadata": {
    "papermill": {
     "duration": 0.01337,
     "end_time": "2022-12-18T12:30:03.575881",
     "exception": false,
     "start_time": "2022-12-18T12:30:03.562511",
     "status": "completed"
    },
    "tags": []
   },
   "outputs": [],
   "source": []
  }
 ],
 "metadata": {
  "kernelspec": {
   "display_name": "Python 3",
   "language": "python",
   "name": "python3"
  },
  "language_info": {
   "codemirror_mode": {
    "name": "ipython",
    "version": 3
   },
   "file_extension": ".py",
   "mimetype": "text/x-python",
   "name": "python",
   "nbconvert_exporter": "python",
   "pygments_lexer": "ipython3",
   "version": "3.7.12"
  },
  "papermill": {
   "default_parameters": {},
   "duration": 17.464602,
   "end_time": "2022-12-18T12:30:04.412211",
   "environment_variables": {},
   "exception": null,
   "input_path": "__notebook__.ipynb",
   "output_path": "__notebook__.ipynb",
   "parameters": {},
   "start_time": "2022-12-18T12:29:46.947609",
   "version": "2.3.4"
  }
 },
 "nbformat": 4,
 "nbformat_minor": 5
}
